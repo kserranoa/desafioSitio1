{
  "nbformat": 4,
  "nbformat_minor": 0,
  "metadata": {
    "colab": {
      "provenance": [],
      "include_colab_link": true
    },
    "kernelspec": {
      "name": "python3",
      "display_name": "Python 3"
    },
    "language_info": {
      "name": "python"
    }
  },
  "cells": [
    {
      "cell_type": "markdown",
      "metadata": {
        "id": "view-in-github",
        "colab_type": "text"
      },
      "source": [
        "<a href=\"https://colab.research.google.com/github/kserranoa/desafioSitio1/blob/main/Copy_of_On_site_challenge_Scenario.ipynb\" target=\"_parent\"><img src=\"https://colab.research.google.com/assets/colab-badge.svg\" alt=\"Open In Colab\"/></a>"
      ]
    },
    {
      "cell_type": "markdown",
      "source": [
        "# **Python File Sorting Challenge: Organizing Files with Ease!**\n",
        "\n",
        "### **Problem Statement:**\n",
        "Welcome to the Python File Sorting Challenge!\n",
        "Your task is to bring order to a folder filled with diverse files, arranging them neatly into subfolders based on their properties.\n",
        "\n",
        "### **Scenario:**\n",
        "You find yourself in possession of a folder bursting with a variety of files, each bearing unique names like \"AAPL_rsi_day_10_values.csv\". Your mission is to create a structured hierarchy that will make file management a breeze. Here's what you need to know:\n",
        "\n",
        "\n",
        "*   File names follow a specific pattern: \"COMPANY_INDICATOR_DAY_CATEGORY.csv\".\n",
        "*   The company name is found before the first \"_\".\n",
        "*   The indicator name lies between the first and second \"_\".\n",
        "*   The category beckons after the fourth \"_\".\n",
        "\n",
        "\n",
        "\n",
        "Your goal is to organize the files by their respective companies and create subfolders for each category.\n",
        "\n",
        "## **WATCH OUT!**\n",
        " However, there's a twist! When encountering files labeled under the \"values\" category, you must dive deeper. For files labeled under the 'values' category, you'll create additional subfolders within their corresponding indicator subfolder. Take note that multiple files may have the same indicator, necessitating a check for the existence of the relevant subfolder.\n",
        "\n",
        "\n",
        "Example:\n",
        "Let's say you start with the following files:\n",
        "\n",
        "AAPL_rsi_day_10_values.csv\n",
        "AAPL_rsi_day_10_metadata.csv\n",
        "MSFT_rsi_day_10_metadata.csv\n",
        "MSFT_rsi_day_10_values.csv\n",
        "MSFT_ema_day_10_values.csv\n",
        "Your task is to organize them into a structured hierarchy:\n",
        "\n",
        "- AAPL\n",
        "  - values\n",
        "    - rsi\n",
        "      - AAPL_rsi_day_10_values.csv\n",
        "  - meta\n",
        "    - AAPL_rsi_day_10_metadata.csv\n",
        "- MSFT\n",
        "  - meta\n",
        "    - MSFT_rsi_day_10_metadata.csv\n",
        "  - values\n",
        "    - rsi\n",
        "      - MSFT_rsi_day_10_values.csv\n",
        "    - ema\n",
        "      - MSFT_ema_day_10_values.csv\n",
        "\n",
        "\n",
        "\n",
        "HINT:\n",
        "- Regex pattern (groups) = r\"^(.*?)_(.*?)_day_\\d+_(.*?)\\.csv$\"\n",
        "\n"
      ],
      "metadata": {
        "id": "gj6Y7slssinc"
      }
    },
    {
      "cell_type": "code",
      "source": [
        "import os"
      ],
      "metadata": {
        "id": "_04k7LcjY50G"
      },
      "execution_count": null,
      "outputs": []
    },
    {
      "cell_type": "code",
      "source": [
        "path = \"/content/requests\"\n",
        "\n",
        "list_files = os.listdir(path)\n",
        "\n",
        "for file in list_files:\n",
        "  x = file.split(\"_\") #Separate file name to get the Company\n",
        "  if os.path.exists(\"requests/\" + x[0]) == False:\n",
        "    os.mkdir(\"requests/\" + x[0]) #Create new folders inside requests"
      ],
      "metadata": {
        "id": "bi8XI-DMZini",
        "colab": {
          "base_uri": "https://localhost:8080/"
        },
        "outputId": "95d02510-7163-46ac-f955-4542d7563ccf"
      },
      "execution_count": null,
      "outputs": [
        {
          "output_type": "stream",
          "name": "stdout",
          "text": [
            "['MSFT', 'ema', 'day', '10', 'metadata.csv']\n",
            "['MSFT', 'rsi', 'day', '10', 'values.csv']\n",
            "['AAPL']\n",
            "['.ipynb']\n",
            "['AAPL', 'rsi', 'day', '10', 'values.csv']\n",
            "['.ipynb', 'checkpoints']\n",
            "['MSFT']\n",
            "['AAPL', 'ema', 'day', '10', 'values.csv']\n"
          ]
        }
      ]
    },
    {
      "cell_type": "code",
      "source": [
        "#Recorrer los archivos y crear nuevas carpetas dentro de AAPL y MSFT que tenga el nombre de lo que esta despues del ultimo _ del file names\n",
        "for t in list_files:\n",
        "  x = t.split(\"_\")\n",
        "  if len(x) > 3:\n",
        "    print(x[4])"
      ],
      "metadata": {
        "colab": {
          "base_uri": "https://localhost:8080/"
        },
        "id": "59YYK1rSO8UH",
        "outputId": "8c1b409f-e2e8-4cd1-c649-c9176965d2f9"
      },
      "execution_count": null,
      "outputs": [
        {
          "output_type": "stream",
          "name": "stdout",
          "text": [
            "metadata.csv\n",
            "values.csv\n",
            "values.csv\n",
            "values.csv\n"
          ]
        }
      ]
    }
  ]
}